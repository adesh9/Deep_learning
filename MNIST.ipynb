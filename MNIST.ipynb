{
  "nbformat": 4,
  "nbformat_minor": 0,
  "metadata": {
    "colab": {
      "name": "MNIST.ipynb",
      "provenance": [],
      "authorship_tag": "ABX9TyMYzxOO7k21tAVRgU5MLYgq",
      "include_colab_link": true
    },
    "kernelspec": {
      "name": "python3",
      "display_name": "Python 3"
    },
    "accelerator": "GPU"
  },
  "cells": [
    {
      "cell_type": "markdown",
      "metadata": {
        "id": "view-in-github",
        "colab_type": "text"
      },
      "source": [
        "<a href=\"https://colab.research.google.com/github/adeshbansode/Deep_learning/blob/master/MNIST.ipynb\" target=\"_parent\"><img src=\"https://colab.research.google.com/assets/colab-badge.svg\" alt=\"Open In Colab\"/></a>"
      ]
    },
    {
      "cell_type": "code",
      "metadata": {
        "id": "g5HbvSFqyBV-",
        "colab_type": "code",
        "colab": {
          "base_uri": "https://localhost:8080/",
          "height": 63
        },
        "outputId": "f2915c60-8413-463f-b990-68772efc9d6e"
      },
      "source": [
        "import numpy as np\n",
        "import tensorflow as tf\n",
        "import tensorflow.keras.layers as KL\n",
        "import tensorflow.keras.models as KM"
      ],
      "execution_count": 1,
      "outputs": [
        {
          "output_type": "display_data",
          "data": {
            "text/html": [
              "<p style=\"color: red;\">\n",
              "The default version of TensorFlow in Colab will soon switch to TensorFlow 2.x.<br>\n",
              "We recommend you <a href=\"https://www.tensorflow.org/guide/migrate\" target=\"_blank\">upgrade</a> now \n",
              "or ensure your notebook will continue to use TensorFlow 1.x via the <code>%tensorflow_version 1.x</code> magic:\n",
              "<a href=\"https://colab.research.google.com/notebooks/tensorflow_version.ipynb\" target=\"_blank\">more info</a>.</p>\n"
            ],
            "text/plain": [
              "<IPython.core.display.HTML object>"
            ]
          },
          "metadata": {
            "tags": []
          }
        }
      ]
    },
    {
      "cell_type": "code",
      "metadata": {
        "id": "QuM4V1e7yKVc",
        "colab_type": "code",
        "colab": {
          "base_uri": "https://localhost:8080/",
          "height": 51
        },
        "outputId": "d11e2fa5-e760-4f57-f477-8c25cc60c1a7"
      },
      "source": [
        "# Datasetes\n",
        "mnist = tf.keras.datasets.mnist\n",
        "(X_train, y_train) , (X_test, y_test) = mnist.load_data()"
      ],
      "execution_count": 2,
      "outputs": [
        {
          "output_type": "stream",
          "text": [
            "Downloading data from https://storage.googleapis.com/tensorflow/tf-keras-datasets/mnist.npz\n",
            "11493376/11490434 [==============================] - 0s 0us/step\n"
          ],
          "name": "stdout"
        }
      ]
    },
    {
      "cell_type": "code",
      "metadata": {
        "id": "T6YhxNtRyQqh",
        "colab_type": "code",
        "colab": {
          "base_uri": "https://localhost:8080/",
          "height": 51
        },
        "outputId": "44307f6e-f585-4bc9-8920-dd61b75229fb"
      },
      "source": [
        "X_train,X_test = X_train/255.0 , X_test/255.0\n",
        "print(X_train.shape, X_test.shape)\n",
        "X_train ,X_test = np.expand_dims(X_train,-1) ,np.expand_dims(X_test,-1)\n",
        "print(X_train.shape, X_test.shape)"
      ],
      "execution_count": 3,
      "outputs": [
        {
          "output_type": "stream",
          "text": [
            "(60000, 28, 28) (10000, 28, 28)\n",
            "(60000, 28, 28, 1) (10000, 28, 28, 1)\n"
          ],
          "name": "stdout"
        }
      ]
    },
    {
      "cell_type": "code",
      "metadata": {
        "id": "ykBvsqbPyT3n",
        "colab_type": "code",
        "colab": {
          "base_uri": "https://localhost:8080/",
          "height": 88
        },
        "outputId": "78dc74a6-34bf-45b0-f4db-3b7779c21178"
      },
      "source": [
        "#models\n",
        "inputs = KL.Input(shape = (28,28,1))\n",
        "c = KL.Conv2D(16,(3,3), padding = \"valid\",activation = tf.nn.relu)(inputs)\n",
        "b = KL.BatchNormalization()(c)\n",
        "d = KL.Dropout(0.11)(b)\n",
        "\n",
        "c = KL.Conv2D(32,(3,3), padding = \"valid\",activation = tf.nn.relu)(d)\n",
        "b = KL.BatchNormalization()(c)\n",
        "d = KL.Dropout(0.11)(b)\n",
        "\n",
        "c = KL.Conv2D(10,(1,1), padding = \"valid\",activation = tf.nn.relu,strides = (1,1))(d)\n",
        "b = KL.BatchNormalization()(c)\n",
        "m = KL.MaxPool2D((2,2),(2,2))(b)\n",
        "d = KL.Dropout(0.1)(m)\n",
        "###\n",
        "c = KL.Conv2D(16,(3,3), padding = \"valid\",activation = tf.nn.relu)(inputs)\n",
        "b = KL.BatchNormalization()(c)\n",
        "d = KL.Dropout(0.11)(b)\n",
        "\n",
        "c = KL.Conv2D(16,(3,3), padding = \"valid\",activation = tf.nn.relu)(d)\n",
        "b = KL.BatchNormalization()(c)\n",
        "#d = KL.Dropout(0.11)(b)\n",
        "\n",
        "c = KL.Conv2D(16,(3,3), padding = \"valid\",activation = tf.nn.relu,strides = (1,1))(b)\n",
        "b = KL.BatchNormalization()(c)\n",
        "#m = KL.MaxPool2D((2,2),(2,2))(b)\n",
        "d = KL.Dropout(0.11)(b)\n",
        "\n",
        "\n",
        "m = KL.AvgPool2D((2,2),(2,2))(d)\n",
        "c = KL.Conv2D(10,(1,1), padding = \"valid\")(m)#,activation = tf.nn.relu,strides = (1,1))(m)\n",
        "\n",
        "f = KL.Flatten()(c)\n",
        "outputs = KL.Dense(10,activation = tf.nn.softmax)(f)\n",
        "\n",
        "\n",
        "model = KM.Model(inputs,outputs)\n"
      ],
      "execution_count": 4,
      "outputs": [
        {
          "output_type": "stream",
          "text": [
            "WARNING:tensorflow:From /usr/local/lib/python3.6/dist-packages/tensorflow_core/python/ops/resource_variable_ops.py:1630: calling BaseResourceVariable.__init__ (from tensorflow.python.ops.resource_variable_ops) with constraint is deprecated and will be removed in a future version.\n",
            "Instructions for updating:\n",
            "If using Keras pass *_constraint arguments to layers.\n"
          ],
          "name": "stdout"
        }
      ]
    },
    {
      "cell_type": "code",
      "metadata": {
        "id": "YxqSCnw8yXPJ",
        "colab_type": "code",
        "colab": {
          "base_uri": "https://localhost:8080/",
          "height": 595
        },
        "outputId": "25056241-9faf-4294-e6ce-307b9089b1a6"
      },
      "source": [
        "model.summary()"
      ],
      "execution_count": 5,
      "outputs": [
        {
          "output_type": "stream",
          "text": [
            "Model: \"model\"\n",
            "_________________________________________________________________\n",
            "Layer (type)                 Output Shape              Param #   \n",
            "=================================================================\n",
            "input_1 (InputLayer)         [(None, 28, 28, 1)]       0         \n",
            "_________________________________________________________________\n",
            "conv2d_3 (Conv2D)            (None, 26, 26, 16)        160       \n",
            "_________________________________________________________________\n",
            "batch_normalization_3 (Batch (None, 26, 26, 16)        64        \n",
            "_________________________________________________________________\n",
            "dropout_3 (Dropout)          (None, 26, 26, 16)        0         \n",
            "_________________________________________________________________\n",
            "conv2d_4 (Conv2D)            (None, 24, 24, 16)        2320      \n",
            "_________________________________________________________________\n",
            "batch_normalization_4 (Batch (None, 24, 24, 16)        64        \n",
            "_________________________________________________________________\n",
            "conv2d_5 (Conv2D)            (None, 22, 22, 16)        2320      \n",
            "_________________________________________________________________\n",
            "batch_normalization_5 (Batch (None, 22, 22, 16)        64        \n",
            "_________________________________________________________________\n",
            "dropout_4 (Dropout)          (None, 22, 22, 16)        0         \n",
            "_________________________________________________________________\n",
            "average_pooling2d (AveragePo (None, 11, 11, 16)        0         \n",
            "_________________________________________________________________\n",
            "conv2d_6 (Conv2D)            (None, 11, 11, 10)        170       \n",
            "_________________________________________________________________\n",
            "flatten (Flatten)            (None, 1210)              0         \n",
            "_________________________________________________________________\n",
            "dense (Dense)                (None, 10)                12110     \n",
            "=================================================================\n",
            "Total params: 17,272\n",
            "Trainable params: 17,176\n",
            "Non-trainable params: 96\n",
            "_________________________________________________________________\n"
          ],
          "name": "stdout"
        }
      ]
    },
    {
      "cell_type": "code",
      "metadata": {
        "id": "NnnOgym5yZtz",
        "colab_type": "code",
        "colab": {}
      },
      "source": [
        "model.compile(optimizer = \"adam\", \n",
        "              loss = \"sparse_categorical_crossentropy\",\n",
        "              metrics = [\"accuracy\"])"
      ],
      "execution_count": 0,
      "outputs": []
    },
    {
      "cell_type": "code",
      "metadata": {
        "id": "fqXY55DuyczA",
        "colab_type": "code",
        "colab": {
          "base_uri": "https://localhost:8080/",
          "height": 731
        },
        "outputId": "ebf2d44a-fd66-4c73-acd6-45577ddc3b74"
      },
      "source": [
        "model.fit(X_train, y_train,epochs=20)\n",
        "test_loss, test_acc = model.evaluate(X_test,y_test)"
      ],
      "execution_count": 7,
      "outputs": [
        {
          "output_type": "stream",
          "text": [
            "Train on 60000 samples\n",
            "Epoch 1/20\n",
            "60000/60000 [==============================] - 17s 292us/sample - loss: 0.1243 - acc: 0.9615\n",
            "Epoch 2/20\n",
            "60000/60000 [==============================] - 10s 172us/sample - loss: 0.0592 - acc: 0.9813\n",
            "Epoch 3/20\n",
            "60000/60000 [==============================] - 11s 179us/sample - loss: 0.0447 - acc: 0.9863\n",
            "Epoch 4/20\n",
            "60000/60000 [==============================] - 10s 174us/sample - loss: 0.0386 - acc: 0.9880\n",
            "Epoch 5/20\n",
            "60000/60000 [==============================] - 11s 181us/sample - loss: 0.0338 - acc: 0.9891\n",
            "Epoch 6/20\n",
            "60000/60000 [==============================] - 11s 176us/sample - loss: 0.0296 - acc: 0.9901\n",
            "Epoch 7/20\n",
            "60000/60000 [==============================] - 11s 183us/sample - loss: 0.0271 - acc: 0.9912\n",
            "Epoch 8/20\n",
            "60000/60000 [==============================] - 11s 183us/sample - loss: 0.0238 - acc: 0.9918\n",
            "Epoch 9/20\n",
            "60000/60000 [==============================] - 10s 170us/sample - loss: 0.0217 - acc: 0.9930\n",
            "Epoch 10/20\n",
            "60000/60000 [==============================] - 11s 175us/sample - loss: 0.0214 - acc: 0.9931\n",
            "Epoch 11/20\n",
            "60000/60000 [==============================] - 11s 177us/sample - loss: 0.0183 - acc: 0.9941\n",
            "Epoch 12/20\n",
            "60000/60000 [==============================] - 11s 182us/sample - loss: 0.0175 - acc: 0.9942\n",
            "Epoch 13/20\n",
            "60000/60000 [==============================] - 11s 182us/sample - loss: 0.0163 - acc: 0.9948\n",
            "Epoch 14/20\n",
            "60000/60000 [==============================] - 11s 178us/sample - loss: 0.0146 - acc: 0.9947\n",
            "Epoch 15/20\n",
            "60000/60000 [==============================] - 10s 175us/sample - loss: 0.0140 - acc: 0.9952\n",
            "Epoch 16/20\n",
            "60000/60000 [==============================] - 11s 175us/sample - loss: 0.0128 - acc: 0.9956\n",
            "Epoch 17/20\n",
            "60000/60000 [==============================] - 10s 173us/sample - loss: 0.0133 - acc: 0.9956\n",
            "Epoch 18/20\n",
            "60000/60000 [==============================] - 11s 176us/sample - loss: 0.0119 - acc: 0.9962\n",
            "Epoch 19/20\n",
            "60000/60000 [==============================] - 10s 175us/sample - loss: 0.0121 - acc: 0.9956\n",
            "Epoch 20/20\n",
            "60000/60000 [==============================] - 10s 171us/sample - loss: 0.0101 - acc: 0.9965\n",
            "10000/10000 [==============================] - 1s 87us/sample - loss: 0.0454 - acc: 0.9894\n"
          ],
          "name": "stdout"
        }
      ]
    },
    {
      "cell_type": "code",
      "metadata": {
        "id": "_ZqDNCd1yjqP",
        "colab_type": "code",
        "colab": {
          "base_uri": "https://localhost:8080/",
          "height": 34
        },
        "outputId": "7f2094f5-3064-4dbf-d010-c860c9126395"
      },
      "source": [
        "print(\"Test loss : {0} - Test Acc : {1}\".format(test_loss,test_acc))"
      ],
      "execution_count": 8,
      "outputs": [
        {
          "output_type": "stream",
          "text": [
            "Test loss : 0.04540123460683467 - Test Acc : 0.9894000291824341\n"
          ],
          "name": "stdout"
        }
      ]
    },
    {
      "cell_type": "code",
      "metadata": {
        "id": "vL56s_e_ziB5",
        "colab_type": "code",
        "colab": {}
      },
      "source": [
        ""
      ],
      "execution_count": 0,
      "outputs": []
    }
  ]
}